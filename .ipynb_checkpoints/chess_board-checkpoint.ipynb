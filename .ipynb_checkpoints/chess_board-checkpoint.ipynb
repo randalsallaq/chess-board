{
 "cells": [
  {
   "cell_type": "code",
   "execution_count": 9,
   "metadata": {},
   "outputs": [
    {
     "data": {
      "image/png": "[encoded data removed]",
      "text/plain": [
       "<Figure size 432x288 with 1 Axes>"
      ]
     },
     "metadata": {
      "needs_background": "light"
     },
     "output_type": "display_data"
    }
   ],
   "source": [
    "import numpy as np\n",
    "import matplotlib.pyplot as plt\n",
    "import abc\n",
    "\n",
    "class ChessBoard:\n",
    "    white = [1,1,1]\n",
    "    blue = [0,0,1]\n",
    "    red = [1,0,0]\n",
    "    def __init__(self):\n",
    "        self.grid = np.zeros([8,8,3])\n",
    "        self.blue_cell = []\n",
    "        self.red_cell = []\n",
    "        for i in range(8):\n",
    "            for j in range(8):\n",
    "                if (i%2==0 and j%2==0) or (i%2==1 and j%2==1):\n",
    "                    self.grid[i,j] = ChessBoard.white\n",
    "    \n",
    "    def render(self):\n",
    "        \"\"\"to display the chess board\"\"\"\n",
    "        plt.imshow(self.grid)\n",
    "        \n",
    "    def add_red(self, rows, cols):\n",
    "        \"\"\"a method to color some cells with red to present queens\"\"\"\n",
    "        self.grid[rows,cols] = ChessBoard.red\n",
    "        self.red_cell =[rows,cols]\n",
    "        \n",
    "    def add_blue(self, rows, cols):\n",
    "        \"\"\"a method to color some cells with blue to present queens\"\"\"\n",
    "        self.grid[rows,cols] = ChessBoard.blue\n",
    "        self.blue_cell =[rows,cols]\n",
    "        \n",
    "    \n",
    "    def check_if_under_attack(self, red_x, red_y, blue_x, blue_y):\n",
    "        '''check if the red queen is under attack by the blue one virtically and horizontally'''\n",
    "        \n",
    "        if red_x == blue_x:\n",
    "            return True\n",
    "        elif red_y == blue_y:\n",
    "            return True\n",
    "        elif abs(red_x - red_y) == abs(blue_x - blue_y):\n",
    "            return True\n",
    "        else:\n",
    "            return False\n",
    "        \n",
    "       \n",
    "\n",
    "board = ChessBoard()\n",
    "board.add_red(4,2)\n",
    "board.add_blue(3,3)\n",
    "board.render()"
   ]
  },
  {
   "cell_type": "code",
   "execution_count": 14,
   "metadata": {},
   "outputs": [],
   "source": [
    "def test_chess():\n",
    "    call = ChessBoard()\n",
    "    call.add_red(3,5)\n",
    "    call.add_blue(2,5)\n",
    "    assert call.check_if_under_attack(3,5,2,5) == True\n",
    "    print ('is under attack Virtically Passed')\n",
    "    call.add_red(6,2)\n",
    "    call.add_blue(6,4)\n",
    "    assert call.check_if_under_attack(6,2,6,4) == True\n",
    "    print ('is under attack Horizontally Passed')\n",
    "    call.add_red(0,7)\n",
    "    call.add_blue(1,2)\n",
    "    assert call.check_if_under_attack(6,5,5,6) == True\n",
    "    print ('is under attack diagonally Passed')\n",
    "    assert call.check_if_under_attack(0,7,1,2) == False\n",
    "    print ('NOT under attack Passed')\n",
    "    call.add_red(6,5)\n",
    "    call.add_blue(5,6)\n",
    "    "
   ]
  },
  {
   "cell_type": "code",
   "execution_count": 15,
   "metadata": {},
   "outputs": [
    {
     "name": "stdout",
     "output_type": "stream",
     "text": [
      "is under attack Virtically Passed\n",
      "is under attack Horizontally Passed\n",
      "is under attack diagonally Passed\n",
      "NOT under attack Passed\n"
     ]
    }
   ],
   "source": [
    "test_chess()"
   ]
  },
  {
   "cell_type": "code",
   "execution_count": null,
   "metadata": {},
   "outputs": [],
   "source": []
  },
  {
   "cell_type": "code",
   "execution_count": null,
   "metadata": {},
   "outputs": [],
   "source": []
  },
  {
   "cell_type": "code",
   "execution_count": null,
   "metadata": {},
   "outputs": [],
   "source": []
  }
 ],
 "metadata": {
  "kernelspec": {
   "display_name": "Python 3",
   "language": "python",
   "name": "python3"
  },
  "language_info": {
   "codemirror_mode": {
    "name": "ipython",
    "version": 3
   },
   "file_extension": ".py",
   "mimetype": "text/x-python",
   "name": "python",
   "nbconvert_exporter": "python",
   "pygments_lexer": "ipython3",
   "version": "3.9.0"
  }
 },
 "nbformat": 4,
 "nbformat_minor": 4
}
